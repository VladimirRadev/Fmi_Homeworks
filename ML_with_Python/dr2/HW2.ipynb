{
 "cells": [
  {
   "cell_type": "markdown",
   "metadata": {},
   "source": [
    "# Домашно 2\n",
    "\n",
    "Трениране и подобряване на модели\n",
    "\n",
    "Предайте същата тетрадка като тази в заданието с нанесените от вас промени. Кръстете файла с факултетния си номер."
   ]
  },
  {
   "cell_type": "markdown",
   "metadata": {},
   "source": [
    "# Задача 1\n",
    "\n",
    "В заданието  имате данните отностно сърдечни заболявания, които са взети от [тук](https://archive.ics.uci.edu/dataset/222/bank+marketing).\n",
    "Данните, които трябва да прочетете, са файлът `bank.csv`\n",
    "\n",
    "1.1 Прочетете набора от данни с помощта на `pandas`.\n",
    "\n",
    "1.2 След което разбийте данните на атрибути и целеви атрибут. в случая целевия атрибут е y.\n",
    "\n",
    "1.3 Подгответе категорийните променливи, така че да могат да бъдат обработвани като индикатори.\n",
    "\n",
    "1.4 Разбийте данните на тренировъчно и тестово множество (като 30% от данните да са в тестовото множество). \n",
    "\n",
    "Преди да ги разбиете вижте какъв е баланса между двата класа и помислете как трябва да ги разбиете(hint: stratification) \n",
    "\n",
    "1.5 Скалирайте данните така, че да имате средно 0 и стандартно отклонение 1.\n"
   ]
  },
  {
   "cell_type": "code",
   "execution_count": 2,
   "metadata": {},
   "outputs": [],
   "source": [
    "# Your code here"
   ]
  },
  {
   "cell_type": "markdown",
   "metadata": {},
   "source": [
    "# Задача 2 Дървета\n",
    "\n",
    "Използвайте крос-валидация с 5 гънки(5-fold cross validation), за да обучите и оптимизирате хиперпараметрите за дърво на решенията.\n",
    "\n",
    "Помислете внимателно как трябва да разбиете гънките при толкова небалансирани класове(hint: stratified k-fold cross-validation).\n",
    "\n",
    "Помислете как да оценявате модела не забравяйте, че точността не работи в този случай, защото данните са силно небалансирани. Имаме нужда от нещо, което съчетава прецизност и обхват(възвръщаемост).\n",
    "\n",
    "Направете grid search като изберете по 3 стойности за всеки от хипер параметрите\n",
    "* `max_depth`\n",
    "* `min_samples_leaf`\n",
    "* `max_leaf_nodes`\n",
    "\n",
    "Вижте как се представя алгоритъма върху тренировачните данни и кои са най-добрите хипер параметри."
   ]
  },
  {
   "cell_type": "code",
   "execution_count": null,
   "metadata": {},
   "outputs": [],
   "source": [
    "# Your code here"
   ]
  },
  {
   "cell_type": "markdown",
   "metadata": {},
   "source": [
    "# Задача 3 Случайна гора\n",
    "\n",
    "Аналогично на предишната задача но този път със случайна гора\n",
    "\n",
    "Направете grid search като изберете по 3 стойности за всеки от хипер параметрите\n",
    "* `n_estimators`\n",
    "* `max_depth`\n"
   ]
  },
  {
   "cell_type": "code",
   "execution_count": null,
   "metadata": {},
   "outputs": [],
   "source": [
    "# Your code here"
   ]
  },
  {
   "cell_type": "markdown",
   "metadata": {},
   "source": [
    "# Задача 4 SVM\n",
    "\n",
    "Аналогично на предишната задача но този път със svm\n",
    "\n",
    "Направете grid search като изберете по 3 стойности за всеки от хипер параметрите\n",
    "* `C`\n",
    "* `gamma`\n"
   ]
  },
  {
   "cell_type": "code",
   "execution_count": null,
   "metadata": {},
   "outputs": [],
   "source": [
    "# Your code here"
   ]
  },
  {
   "cell_type": "markdown",
   "metadata": {},
   "source": [
    "# Задача 5 \n",
    "\n",
    "Повторете задачи 2-4 като изполвате резултатите получени до сега за да избрете нови стойности на същите хипер параметри за които да правите нов grid search.\n"
   ]
  },
  {
   "cell_type": "code",
   "execution_count": null,
   "metadata": {},
   "outputs": [],
   "source": [
    "# Your code here"
   ]
  },
  {
   "cell_type": "markdown",
   "metadata": {},
   "source": [
    "# Задача 6\n",
    "\n",
    "Сравнете как се предстявят всички модели и изберете кой е най-добрия\n"
   ]
  },
  {
   "cell_type": "code",
   "execution_count": null,
   "metadata": {},
   "outputs": [],
   "source": [
    "# Your code here"
   ]
  }
 ],
 "metadata": {
  "kernelspec": {
   "display_name": "Python 3",
   "language": "python",
   "name": "python3"
  },
  "language_info": {
   "codemirror_mode": {
    "name": "ipython",
    "version": 3
   },
   "file_extension": ".py",
   "mimetype": "text/x-python",
   "name": "python",
   "nbconvert_exporter": "python",
   "pygments_lexer": "ipython3",
   "version": "3.6.13"
  }
 },
 "nbformat": 4,
 "nbformat_minor": 2
}
